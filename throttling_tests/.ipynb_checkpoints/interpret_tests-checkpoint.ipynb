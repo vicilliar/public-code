{
 "cells": [
  {
   "cell_type": "code",
   "execution_count": 15,
   "id": "f2b1e350",
   "metadata": {},
   "outputs": [],
   "source": [
    "import os\n",
    "import json\n",
    "import pandas as pd"
   ]
  },
  {
   "cell_type": "code",
   "execution_count": 59,
   "id": "f3811527",
   "metadata": {},
   "outputs": [
    {
     "name": "stdout",
     "output_type": "stream",
     "text": [
      "TEST RUN: ocaa\n",
      "DESCRIPTION: sorted sets, pc (16gb ram, 3600, 6 core), asynchronously expire keys\n",
      "MAX CONCURRENT: 10, ATTEMPTED THREADS: 11\n",
      "------------------------------------\n",
      "Mean: 7.025ms\n",
      "Min: 0.532ms\n",
      "Max: 17.351ms\n",
      "25%: 1.653ms\n",
      "50%: 5.070ms\n",
      "75%: 10.661ms\n",
      "90%: 16.824ms\n",
      "=====================================\n",
      "\n",
      "=====================================\n",
      "TEST RUN: ocab\n",
      "DESCRIPTION: sorted sets, pc (16gb ram, 3600, 6 core), asynchronously expire keys\n",
      "MAX CONCURRENT: 20, ATTEMPTED THREADS: 21\n",
      "------------------------------------\n",
      "Mean: 4.766ms\n",
      "Min: 0.249ms\n",
      "Max: 13.175ms\n",
      "25%: 1.876ms\n",
      "50%: 3.559ms\n",
      "75%: 8.233ms\n",
      "90%: 9.997ms\n",
      "=====================================\n",
      "\n",
      "=====================================\n",
      "TEST RUN: ocac\n",
      "DESCRIPTION: sorted sets, pc (16gb ram, 3600, 6 core), asynchronously expire keys\n",
      "MAX CONCURRENT: 40, ATTEMPTED THREADS: 41\n",
      "------------------------------------\n",
      "Mean: 5.629ms\n",
      "Min: 0.282ms\n",
      "Max: 41.333ms\n",
      "25%: 2.214ms\n",
      "50%: 3.217ms\n",
      "75%: 6.673ms\n",
      "90%: 10.980ms\n",
      "=====================================\n",
      "\n",
      "=====================================\n",
      "TEST RUN: ocia\n",
      "DESCRIPTION: sorted sets, pc (16gb ram, 3600, 6 core), immediately expire keys\n",
      "MAX CONCURRENT: 10, ATTEMPTED THREADS: 11\n",
      "------------------------------------\n",
      "Mean: 3.485ms\n",
      "Min: 0.588ms\n",
      "Max: 17.952ms\n",
      "25%: 0.925ms\n",
      "50%: 1.452ms\n",
      "75%: 3.382ms\n",
      "90%: 5.776ms\n",
      "=====================================\n",
      "\n",
      "=====================================\n",
      "TEST RUN: ocib\n",
      "DESCRIPTION: sorted sets, pc (16gb ram, 3600, 6 core), immediately expire keys\n",
      "MAX CONCURRENT: 20, ATTEMPTED THREADS: 21\n",
      "------------------------------------\n",
      "Mean: 6.263ms\n",
      "Min: 0.428ms\n",
      "Max: 36.341ms\n",
      "25%: 1.688ms\n",
      "50%: 2.353ms\n",
      "75%: 5.743ms\n",
      "90%: 19.427ms\n",
      "=====================================\n",
      "\n",
      "=====================================\n",
      "TEST RUN: ocic\n",
      "DESCRIPTION: sorted sets, pc (16gb ram, 3600, 6 core), immediately expire keys\n",
      "MAX CONCURRENT: 40, ATTEMPTED THREADS: 41\n",
      "------------------------------------\n",
      "Mean: 3.725ms\n",
      "Min: 1.059ms\n",
      "Max: 20.200ms\n",
      "25%: 1.929ms\n",
      "50%: 2.686ms\n",
      "75%: 3.581ms\n",
      "90%: 5.863ms\n",
      "=====================================\n",
      "\n",
      "=====================================\n"
     ]
    },
    {
     "ename": "IndexError",
     "evalue": "list index out of range",
     "output_type": "error",
     "traceback": [
      "\u001b[0;31m---------------------------------------------------------------------------\u001b[0m",
      "\u001b[0;31mIndexError\u001b[0m                                Traceback (most recent call last)",
      "Cell \u001b[0;32mIn[59], line 29\u001b[0m\n\u001b[1;32m     27\u001b[0m \u001b[38;5;28;01mwith\u001b[39;00m \u001b[38;5;28mopen\u001b[39m(os\u001b[38;5;241m.\u001b[39mpath\u001b[38;5;241m.\u001b[39mjoin(data_dir, name)) \u001b[38;5;28;01mas\u001b[39;00m f:\n\u001b[1;32m     28\u001b[0m     raw_json \u001b[38;5;241m=\u001b[39m json\u001b[38;5;241m.\u001b[39mload(f)\n\u001b[0;32m---> 29\u001b[0m     \u001b[43moutput_test_desc\u001b[49m\u001b[43m(\u001b[49m\u001b[43mraw_json\u001b[49m\u001b[43m)\u001b[49m\n\u001b[1;32m     30\u001b[0m     \u001b[38;5;28;01mif\u001b[39;00m \u001b[38;5;28mlen\u001b[39m(raw_json) \u001b[38;5;241m>\u001b[39m \u001b[38;5;241m0\u001b[39m:\n\u001b[1;32m     31\u001b[0m         output_test_stats(raw_json)\n",
      "Cell \u001b[0;32mIn[59], line 2\u001b[0m, in \u001b[0;36moutput_test_desc\u001b[0;34m(j)\u001b[0m\n\u001b[1;32m      1\u001b[0m \u001b[38;5;28;01mdef\u001b[39;00m \u001b[38;5;21moutput_test_desc\u001b[39m(j):\n\u001b[0;32m----> 2\u001b[0m     \u001b[38;5;28mprint\u001b[39m(\u001b[38;5;124mf\u001b[39m\u001b[38;5;124m\"\u001b[39m\u001b[38;5;124mTEST RUN: \u001b[39m\u001b[38;5;132;01m{\u001b[39;00mj[\u001b[38;5;241m0\u001b[39m][\u001b[38;5;124m'\u001b[39m\u001b[38;5;124mcode\u001b[39m\u001b[38;5;124m'\u001b[39m]\u001b[38;5;132;01m}\u001b[39;00m\u001b[38;5;124m\"\u001b[39m)\n\u001b[1;32m      3\u001b[0m     \u001b[38;5;28mprint\u001b[39m(\u001b[38;5;124mf\u001b[39m\u001b[38;5;124m\"\u001b[39m\u001b[38;5;124mDESCRIPTION: \u001b[39m\u001b[38;5;132;01m{\u001b[39;00mj[\u001b[38;5;241m0\u001b[39m][\u001b[38;5;124m'\u001b[39m\u001b[38;5;124mdesc\u001b[39m\u001b[38;5;124m'\u001b[39m]\u001b[38;5;132;01m}\u001b[39;00m\u001b[38;5;124m\"\u001b[39m)\n\u001b[1;32m      4\u001b[0m     \u001b[38;5;28mprint\u001b[39m(\u001b[38;5;124mf\u001b[39m\u001b[38;5;124m\"\u001b[39m\u001b[38;5;124mMAX CONCURRENT: \u001b[39m\u001b[38;5;132;01m{\u001b[39;00mj[\u001b[38;5;241m0\u001b[39m][\u001b[38;5;124m'\u001b[39m\u001b[38;5;124mmax_threads\u001b[39m\u001b[38;5;124m'\u001b[39m]\u001b[38;5;132;01m}\u001b[39;00m\u001b[38;5;124m, ATTEMPTED THREADS: \u001b[39m\u001b[38;5;132;01m{\u001b[39;00mj[\u001b[38;5;241m0\u001b[39m][\u001b[38;5;124m'\u001b[39m\u001b[38;5;124mattempted_threads\u001b[39m\u001b[38;5;124m'\u001b[39m]\u001b[38;5;132;01m}\u001b[39;00m\u001b[38;5;124m\"\u001b[39m)\n",
      "\u001b[0;31mIndexError\u001b[0m: list index out of range"
     ]
    }
   ],
   "source": [
    "def output_test_desc(j):\n",
    "    print(f\"TEST RUN: {j[0]['code']}\")\n",
    "    print(f\"DESCRIPTION: {j[0]['desc']}\")\n",
    "    print(f\"MAX CONCURRENT: {j[0]['max_threads']}, ATTEMPTED THREADS: {j[0]['attempted_threads']}\")\n",
    "    print(f\"------------------------------------\")\n",
    "\n",
    "    \n",
    "def output_test_stats(j):\n",
    "    code = j[0]['code']\n",
    "    raw_df = pd.DataFrame(j)\n",
    "    check_df = raw_df[raw_df[\"action\"] == \"check\"]\n",
    "    total_stats[code] = check_df[\"redis_time\"].describe(percentiles=[.25, .5, .75, .9])\n",
    "    \n",
    "    print(f\"Mean: {(total_stats[code]['mean']):.3f}ms\")\n",
    "    print(f\"Min: {(total_stats[code]['min']):.3f}ms\")\n",
    "    print(f\"Max: {(total_stats[code]['max']):.3f}ms\")\n",
    "    print(f\"25%: {(total_stats[code]['25%']):.3f}ms\")\n",
    "    print(f\"50%: {(total_stats[code]['50%']):.3f}ms\")\n",
    "    print(f\"75%: {(total_stats[code]['75%']):.3f}ms\")\n",
    "    print(f\"90%: {(total_stats[code]['90%']):.3f}ms\")\n",
    "    print(\"=====================================\\n\\n=====================================\")\n",
    "    \n",
    "# Go through each file in test_data\n",
    "total_stats = {}\n",
    "data_dir = \"test_data\"\n",
    "for name in sorted(os.listdir(data_dir)):\n",
    "    with open(os.path.join(data_dir, name)) as f:\n",
    "        raw_json = json.load(f)\n",
    "        if len(raw_json) > 0:\n",
    "            output_test_desc(raw_json)\n",
    "            output_test_stats(raw_json)"
   ]
  },
  {
   "cell_type": "code",
   "execution_count": 37,
   "id": "f679e7a6",
   "metadata": {},
   "outputs": [
    {
     "data": {
      "text/plain": [
       "count    20.000000\n",
       "mean      4.852235\n",
       "std       3.974474\n",
       "min       0.309944\n",
       "25%       1.451612\n",
       "50%       4.016399\n",
       "75%       7.508278\n",
       "90%      10.394478\n",
       "max      12.655497\n",
       "Name: redis_time, dtype: float64"
      ]
     },
     "execution_count": 37,
     "metadata": {},
     "output_type": "execute_result"
    }
   ],
   "source": []
  },
  {
   "cell_type": "code",
   "execution_count": null,
   "id": "e10a186f",
   "metadata": {},
   "outputs": [],
   "source": [
    "# Output important metrics"
   ]
  }
 ],
 "metadata": {
  "kernelspec": {
   "display_name": "Python 3 (ipykernel)",
   "language": "python",
   "name": "python3"
  },
  "language_info": {
   "codemirror_mode": {
    "name": "ipython",
    "version": 3
   },
   "file_extension": ".py",
   "mimetype": "text/x-python",
   "name": "python",
   "nbconvert_exporter": "python",
   "pygments_lexer": "ipython3",
   "version": "3.8.10"
  }
 },
 "nbformat": 4,
 "nbformat_minor": 5
}
