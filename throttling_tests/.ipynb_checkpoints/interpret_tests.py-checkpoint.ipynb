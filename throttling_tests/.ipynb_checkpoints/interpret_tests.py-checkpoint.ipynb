{
 "cells": [
  {
   "cell_type": "code",
   "execution_count": 15,
   "id": "d50a8fd7",
   "metadata": {},
   "outputs": [],
   "source": [
    "import os\n",
    "import json\n",
    "import pandas as pd"
   ]
  },
  {
   "cell_type": "code",
   "execution_count": 53,
   "id": "d2ea4b25",
   "metadata": {},
   "outputs": [
    {
     "ename": "TypeError",
     "evalue": "'<' not supported between instances of 'posix.DirEntry' and 'posix.DirEntry'",
     "output_type": "error",
     "traceback": [
      "\u001b[0;31m---------------------------------------------------------------------------\u001b[0m",
      "\u001b[0;31mTypeError\u001b[0m                                 Traceback (most recent call last)",
      "Cell \u001b[0;32mIn[53], line 25\u001b[0m\n\u001b[1;32m     23\u001b[0m \u001b[38;5;66;03m# Go through each file in test_data\u001b[39;00m\n\u001b[1;32m     24\u001b[0m total_stats \u001b[38;5;241m=\u001b[39m {}\n\u001b[0;32m---> 25\u001b[0m \u001b[38;5;28;01mfor\u001b[39;00m filename \u001b[38;5;129;01min\u001b[39;00m \u001b[38;5;28;43msorted\u001b[39;49m\u001b[43m(\u001b[49m\u001b[43mos\u001b[49m\u001b[38;5;241;43m.\u001b[39;49m\u001b[43mscandir\u001b[49m\u001b[43m(\u001b[49m\u001b[38;5;124;43m\"\u001b[39;49m\u001b[38;5;124;43mtest_data\u001b[39;49m\u001b[38;5;124;43m\"\u001b[39;49m\u001b[43m)\u001b[49m\u001b[43m)\u001b[49m:\n\u001b[1;32m     26\u001b[0m     \u001b[38;5;28;01mif\u001b[39;00m filename\u001b[38;5;241m.\u001b[39mis_file():\n\u001b[1;32m     27\u001b[0m         \u001b[38;5;28;01mwith\u001b[39;00m \u001b[38;5;28mopen\u001b[39m(filename\u001b[38;5;241m.\u001b[39mpath) \u001b[38;5;28;01mas\u001b[39;00m f:\n",
      "\u001b[0;31mTypeError\u001b[0m: '<' not supported between instances of 'posix.DirEntry' and 'posix.DirEntry'"
     ]
    }
   ],
   "source": [
    "def output_test_desc(j):\n",
    "    print(f\"TEST RUN: {j[0]['code']}\")\n",
    "    print(f\"DESCRIPTION: {j[0]['desc']}\")\n",
    "    print(f\"MAX CONCURRENT: {j[0]['max_threads']}, ATTEMPTED THREADS: {j[0]['attempted_threads']}\")\n",
    "    print(f\"------------------------------------\")\n",
    "\n",
    "    \n",
    "def output_test_stats(j):\n",
    "    code = j[0]['code']\n",
    "    raw_df = pd.DataFrame(j)\n",
    "    check_df = raw_df[raw_df[\"action\"] == \"check\"]\n",
    "    total_stats[code] = check_df[\"redis_time\"].describe(percentiles=[.25, .5, .75, .9])\n",
    "    \n",
    "    print(f\"Mean: {(total_stats[code]['mean']):.3f}ms\")\n",
    "    print(f\"Min: {(total_stats[code]['min']):.3f}ms\")\n",
    "    print(f\"Max: {(total_stats[code]['max']):.3f}ms\")\n",
    "    print(f\"25%: {(total_stats[code]['25%']):.3f}ms\")\n",
    "    print(f\"50%: {(total_stats[code]['50%']):.3f}ms\")\n",
    "    print(f\"75%: {(total_stats[code]['75%']):.3f}ms\")\n",
    "    print(f\"90%: {(total_stats[code]['90%']):.3f}ms\")\n",
    "    print(\"=====================================\\n\\n=====================================\")\n",
    "    \n",
    "# Go through each file in test_data\n",
    "total_stats = {}\n",
    "for filename in os.scandir(\"test_data\"):\n",
    "    if filename.is_file():\n",
    "        with open(filename.path) as f:\n",
    "            raw_json = json.load(f)\n",
    "            output_test_desc(raw_json)\n",
    "            output_test_stats(raw_json)"
   ]
  },
  {
   "cell_type": "code",
   "execution_count": 37,
   "id": "a897afcd",
   "metadata": {},
   "outputs": [
    {
     "data": {
      "text/plain": [
       "count    20.000000\n",
       "mean      4.852235\n",
       "std       3.974474\n",
       "min       0.309944\n",
       "25%       1.451612\n",
       "50%       4.016399\n",
       "75%       7.508278\n",
       "90%      10.394478\n",
       "max      12.655497\n",
       "Name: redis_time, dtype: float64"
      ]
     },
     "execution_count": 37,
     "metadata": {},
     "output_type": "execute_result"
    }
   ],
   "source": []
  },
  {
   "cell_type": "code",
   "execution_count": null,
   "id": "e8d0833f",
   "metadata": {},
   "outputs": [],
   "source": [
    "# Output important metrics"
   ]
  }
 ],
 "metadata": {
  "kernelspec": {
   "display_name": "Python 3 (ipykernel)",
   "language": "python",
   "name": "python3"
  },
  "language_info": {
   "codemirror_mode": {
    "name": "ipython",
    "version": 3
   },
   "file_extension": ".py",
   "mimetype": "text/x-python",
   "name": "python",
   "nbconvert_exporter": "python",
   "pygments_lexer": "ipython3",
   "version": "3.8.10"
  }
 },
 "nbformat": 4,
 "nbformat_minor": 5
}
